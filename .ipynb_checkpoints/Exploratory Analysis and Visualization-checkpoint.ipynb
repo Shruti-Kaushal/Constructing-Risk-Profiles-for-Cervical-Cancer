{
 "cells": [
  {
   "cell_type": "code",
   "execution_count": 1,
   "id": "887bb5c1",
   "metadata": {},
   "outputs": [],
   "source": [
    "import numpy as np\n",
    "import pandas as pd\n",
    "import matplotlib.pyplot as plt\n",
    "import seaborn as sns"
   ]
  },
  {
   "cell_type": "code",
   "execution_count": 2,
   "id": "6f691bef",
   "metadata": {},
   "outputs": [],
   "source": [
    "data = pd.read_csv('data/cervical_cancer_data.csv')"
   ]
  },
  {
   "cell_type": "code",
   "execution_count": 3,
   "id": "1c5f9a67",
   "metadata": {},
   "outputs": [
    {
     "data": {
      "text/html": [
       "<div>\n",
       "<style scoped>\n",
       "    .dataframe tbody tr th:only-of-type {\n",
       "        vertical-align: middle;\n",
       "    }\n",
       "\n",
       "    .dataframe tbody tr th {\n",
       "        vertical-align: top;\n",
       "    }\n",
       "\n",
       "    .dataframe thead th {\n",
       "        text-align: right;\n",
       "    }\n",
       "</style>\n",
       "<table border=\"1\" class=\"dataframe\">\n",
       "  <thead>\n",
       "    <tr style=\"text-align: right;\">\n",
       "      <th></th>\n",
       "      <th>Dx:Cancer</th>\n",
       "      <th>Dx</th>\n",
       "    </tr>\n",
       "  </thead>\n",
       "  <tbody>\n",
       "    <tr>\n",
       "      <th>0</th>\n",
       "      <td>0</td>\n",
       "      <td>0</td>\n",
       "    </tr>\n",
       "    <tr>\n",
       "      <th>1</th>\n",
       "      <td>0</td>\n",
       "      <td>0</td>\n",
       "    </tr>\n",
       "    <tr>\n",
       "      <th>2</th>\n",
       "      <td>0</td>\n",
       "      <td>0</td>\n",
       "    </tr>\n",
       "    <tr>\n",
       "      <th>3</th>\n",
       "      <td>1</td>\n",
       "      <td>0</td>\n",
       "    </tr>\n",
       "    <tr>\n",
       "      <th>4</th>\n",
       "      <td>0</td>\n",
       "      <td>0</td>\n",
       "    </tr>\n",
       "    <tr>\n",
       "      <th>...</th>\n",
       "      <td>...</td>\n",
       "      <td>...</td>\n",
       "    </tr>\n",
       "    <tr>\n",
       "      <th>853</th>\n",
       "      <td>0</td>\n",
       "      <td>0</td>\n",
       "    </tr>\n",
       "    <tr>\n",
       "      <th>854</th>\n",
       "      <td>0</td>\n",
       "      <td>0</td>\n",
       "    </tr>\n",
       "    <tr>\n",
       "      <th>855</th>\n",
       "      <td>0</td>\n",
       "      <td>0</td>\n",
       "    </tr>\n",
       "    <tr>\n",
       "      <th>856</th>\n",
       "      <td>0</td>\n",
       "      <td>0</td>\n",
       "    </tr>\n",
       "    <tr>\n",
       "      <th>857</th>\n",
       "      <td>0</td>\n",
       "      <td>0</td>\n",
       "    </tr>\n",
       "  </tbody>\n",
       "</table>\n",
       "<p>858 rows × 2 columns</p>\n",
       "</div>"
      ],
      "text/plain": [
       "     Dx:Cancer  Dx\n",
       "0            0   0\n",
       "1            0   0\n",
       "2            0   0\n",
       "3            1   0\n",
       "4            0   0\n",
       "..         ...  ..\n",
       "853          0   0\n",
       "854          0   0\n",
       "855          0   0\n",
       "856          0   0\n",
       "857          0   0\n",
       "\n",
       "[858 rows x 2 columns]"
      ]
     },
     "execution_count": 3,
     "metadata": {},
     "output_type": "execute_result"
    }
   ],
   "source": [
    "data[['Dx:Cancer','Dx']]"
   ]
  },
  {
   "cell_type": "code",
   "execution_count": 4,
   "id": "0230874e",
   "metadata": {},
   "outputs": [
    {
     "data": {
      "text/plain": [
       "14"
      ]
     },
     "execution_count": 4,
     "metadata": {},
     "output_type": "execute_result"
    }
   ],
   "source": [
    "len(np.where(data['Dx:Cancer']!= data['Dx'])[0])"
   ]
  },
  {
   "cell_type": "code",
   "execution_count": 5,
   "id": "d476eddc",
   "metadata": {},
   "outputs": [
    {
     "data": {
      "text/plain": [
       "Index(['Age', 'Number of sexual partners', 'First sexual intercourse',\n",
       "       'Num of pregnancies', 'Smokes', 'Smokes (years)', 'Smokes (packs/year)',\n",
       "       'Hormonal Contraceptives', 'Hormonal Contraceptives (years)', 'IUD',\n",
       "       'IUD (years)', 'STDs', 'STDs (number)', 'STDs:condylomatosis',\n",
       "       'STDs:cervical condylomatosis', 'STDs:vaginal condylomatosis',\n",
       "       'STDs:vulvo-perineal condylomatosis', 'STDs:syphilis',\n",
       "       'STDs:pelvic inflammatory disease', 'STDs:genital herpes',\n",
       "       'STDs:molluscum contagiosum', 'STDs:AIDS', 'STDs:HIV',\n",
       "       'STDs:Hepatitis B', 'STDs:HPV', 'STDs: Number of diagnosis',\n",
       "       'STDs: Time since first diagnosis', 'STDs: Time since last diagnosis',\n",
       "       'Dx:Cancer', 'Dx:CIN', 'Dx:HPV', 'Dx', 'Hinselmann', 'Schiller',\n",
       "       'Citology', 'Biopsy'],\n",
       "      dtype='object')"
      ]
     },
     "execution_count": 5,
     "metadata": {},
     "output_type": "execute_result"
    }
   ],
   "source": [
    "data.columns"
   ]
  },
  {
   "cell_type": "markdown",
   "id": "61bd6695",
   "metadata": {},
   "source": [
    "## Finding which columns are numerical"
   ]
  },
  {
   "cell_type": "code",
   "execution_count": 6,
   "id": "bf030f0d",
   "metadata": {},
   "outputs": [
    {
     "data": {
      "text/plain": [
       "['Age',\n",
       " 'STDs: Number of diagnosis',\n",
       " 'Dx:Cancer',\n",
       " 'Dx:CIN',\n",
       " 'Dx:HPV',\n",
       " 'Dx',\n",
       " 'Hinselmann',\n",
       " 'Schiller',\n",
       " 'Citology',\n",
       " 'Biopsy']"
      ]
     },
     "execution_count": 6,
     "metadata": {},
     "output_type": "execute_result"
    }
   ],
   "source": [
    "numerics = ['int16', 'int32', 'int64', 'float16', 'float32', 'float64']\n",
    "newdf = data.select_dtypes(include=numerics)\n",
    "numerical_columns = list(newdf.columns)\n",
    "\n",
    "numerical_columns"
   ]
  },
  {
   "cell_type": "markdown",
   "id": "4f2bc4ed",
   "metadata": {},
   "source": [
    "## Finding which columns are non-numerical"
   ]
  },
  {
   "cell_type": "code",
   "execution_count": 7,
   "id": "05a74fdd",
   "metadata": {},
   "outputs": [
    {
     "data": {
      "text/plain": [
       "['Number of sexual partners',\n",
       " 'First sexual intercourse',\n",
       " 'Num of pregnancies',\n",
       " 'Smokes',\n",
       " 'Smokes (years)',\n",
       " 'Smokes (packs/year)',\n",
       " 'Hormonal Contraceptives',\n",
       " 'Hormonal Contraceptives (years)',\n",
       " 'IUD',\n",
       " 'IUD (years)',\n",
       " 'STDs',\n",
       " 'STDs (number)',\n",
       " 'STDs:condylomatosis',\n",
       " 'STDs:cervical condylomatosis',\n",
       " 'STDs:vaginal condylomatosis',\n",
       " 'STDs:vulvo-perineal condylomatosis',\n",
       " 'STDs:syphilis',\n",
       " 'STDs:pelvic inflammatory disease',\n",
       " 'STDs:genital herpes',\n",
       " 'STDs:molluscum contagiosum',\n",
       " 'STDs:AIDS',\n",
       " 'STDs:HIV',\n",
       " 'STDs:Hepatitis B',\n",
       " 'STDs:HPV',\n",
       " 'STDs: Time since first diagnosis',\n",
       " 'STDs: Time since last diagnosis']"
      ]
     },
     "execution_count": 7,
     "metadata": {},
     "output_type": "execute_result"
    }
   ],
   "source": [
    "non_numeric = []\n",
    "for c in list(data.columns):\n",
    "    if c not in numerical_columns:\n",
    "        non_numeric.append(c)\n",
    "non_numeric"
   ]
  },
  {
   "cell_type": "markdown",
   "id": "1dcfad51",
   "metadata": {},
   "source": [
    "## Checking the validity of non-numerical categories"
   ]
  },
  {
   "cell_type": "markdown",
   "id": "8f346daa",
   "metadata": {},
   "source": [
    "### Converting appropriate categories to numerical"
   ]
  },
  {
   "cell_type": "code",
   "execution_count": 8,
   "id": "56ab4ff3",
   "metadata": {},
   "outputs": [
    {
     "data": {
      "text/plain": [
       "2.0     272\n",
       "3.0     208\n",
       "1.0     206\n",
       "4.0      78\n",
       "5.0      44\n",
       "?        26\n",
       "6.0       9\n",
       "7.0       7\n",
       "8.0       4\n",
       "15.0      1\n",
       "10.0      1\n",
       "28.0      1\n",
       "9.0       1\n",
       "Name: Number of sexual partners, dtype: int64"
      ]
     },
     "execution_count": 8,
     "metadata": {},
     "output_type": "execute_result"
    }
   ],
   "source": [
    "data[\"Number of sexual partners\"].value_counts()"
   ]
  },
  {
   "cell_type": "code",
   "execution_count": 9,
   "id": "07f6e1d3",
   "metadata": {},
   "outputs": [
    {
     "data": {
      "text/plain": [
       "15.0    163\n",
       "17.0    151\n",
       "18.0    137\n",
       "16.0    121\n",
       "14.0     79\n",
       "19.0     60\n",
       "20.0     37\n",
       "13.0     25\n",
       "21.0     20\n",
       "23.0      9\n",
       "22.0      9\n",
       "?         7\n",
       "26.0      7\n",
       "12.0      6\n",
       "27.0      6\n",
       "24.0      6\n",
       "29.0      5\n",
       "28.0      3\n",
       "11.0      2\n",
       "25.0      2\n",
       "10.0      2\n",
       "32.0      1\n",
       "Name: First sexual intercourse, dtype: int64"
      ]
     },
     "execution_count": 9,
     "metadata": {},
     "output_type": "execute_result"
    }
   ],
   "source": [
    "data[\"First sexual intercourse\"].value_counts()"
   ]
  },
  {
   "cell_type": "code",
   "execution_count": 10,
   "id": "23602ba6",
   "metadata": {},
   "outputs": [
    {
     "data": {
      "text/plain": [
       "1.0     270\n",
       "2.0     240\n",
       "3.0     139\n",
       "4.0      74\n",
       "?        56\n",
       "5.0      35\n",
       "6.0      18\n",
       "0.0      16\n",
       "7.0       6\n",
       "8.0       2\n",
       "11.0      1\n",
       "10.0      1\n",
       "Name: Num of pregnancies, dtype: int64"
      ]
     },
     "execution_count": 10,
     "metadata": {},
     "output_type": "execute_result"
    }
   ],
   "source": [
    "data[\"Num of pregnancies\"].value_counts()"
   ]
  },
  {
   "cell_type": "code",
   "execution_count": 11,
   "id": "8879d4a6",
   "metadata": {},
   "outputs": [
    {
     "data": {
      "text/plain": [
       "?       787\n",
       "1.0      15\n",
       "3.0      10\n",
       "2.0       9\n",
       "4.0       6\n",
       "7.0       5\n",
       "16.0      4\n",
       "5.0       4\n",
       "8.0       3\n",
       "6.0       3\n",
       "19.0      2\n",
       "11.0      2\n",
       "21.0      2\n",
       "10.0      1\n",
       "22.0      1\n",
       "9.0       1\n",
       "12.0      1\n",
       "15.0      1\n",
       "18.0      1\n",
       "Name: STDs: Time since first diagnosis, dtype: int64"
      ]
     },
     "execution_count": 11,
     "metadata": {},
     "output_type": "execute_result"
    }
   ],
   "source": [
    "data[\"STDs: Time since first diagnosis\"].value_counts()"
   ]
  },
  {
   "cell_type": "code",
   "execution_count": 12,
   "id": "a808ba57",
   "metadata": {},
   "outputs": [
    {
     "data": {
      "text/plain": [
       "?       787\n",
       "1.0      17\n",
       "2.0      10\n",
       "3.0       9\n",
       "4.0       6\n",
       "7.0       5\n",
       "16.0      4\n",
       "5.0       3\n",
       "8.0       3\n",
       "6.0       3\n",
       "11.0      2\n",
       "21.0      2\n",
       "22.0      1\n",
       "10.0      1\n",
       "9.0       1\n",
       "12.0      1\n",
       "19.0      1\n",
       "15.0      1\n",
       "18.0      1\n",
       "Name: STDs: Time since last diagnosis, dtype: int64"
      ]
     },
     "execution_count": 12,
     "metadata": {},
     "output_type": "execute_result"
    }
   ],
   "source": [
    "data[\"STDs: Time since last diagnosis\"].value_counts()"
   ]
  },
  {
   "cell_type": "markdown",
   "id": "a336ee55",
   "metadata": {},
   "source": [
    "Above we can see that a few of the supposedly non-numerical categories are actually numerical; they just have been put in the dataset as strings. These categories are Number of sexual partners, First sexual intercourse, Num of pregnancies, STDs: Time since first diagnosis, STDs: Time since last diagnosis. We can just convert these to numeric values."
   ]
  },
  {
   "cell_type": "code",
   "execution_count": 13,
   "id": "f2be51f4",
   "metadata": {},
   "outputs": [],
   "source": [
    "data['Number of sexual partners'] = pd.to_numeric(data['Number of sexual partners'], errors='coerce')"
   ]
  },
  {
   "cell_type": "code",
   "execution_count": 14,
   "id": "52908c04",
   "metadata": {},
   "outputs": [
    {
     "name": "stdout",
     "output_type": "stream",
     "text": [
      "2.0     272\n",
      "3.0     208\n",
      "1.0     206\n",
      "4.0      78\n",
      "5.0      44\n",
      "6.0       9\n",
      "7.0       7\n",
      "8.0       4\n",
      "15.0      1\n",
      "10.0      1\n",
      "28.0      1\n",
      "9.0       1\n",
      "Name: Number of sexual partners, dtype: int64\n",
      "26\n"
     ]
    }
   ],
   "source": [
    "print(data[\"Number of sexual partners\"].value_counts())\n",
    "print(data[\"Number of sexual partners\"].isna().sum())"
   ]
  },
  {
   "cell_type": "code",
   "execution_count": 15,
   "id": "ca95c466",
   "metadata": {},
   "outputs": [
    {
     "name": "stdout",
     "output_type": "stream",
     "text": [
      "15.0    163\n",
      "17.0    151\n",
      "18.0    137\n",
      "16.0    121\n",
      "14.0     79\n",
      "19.0     60\n",
      "20.0     37\n",
      "13.0     25\n",
      "21.0     20\n",
      "23.0      9\n",
      "22.0      9\n",
      "26.0      7\n",
      "12.0      6\n",
      "27.0      6\n",
      "24.0      6\n",
      "29.0      5\n",
      "28.0      3\n",
      "11.0      2\n",
      "25.0      2\n",
      "10.0      2\n",
      "32.0      1\n",
      "Name: First sexual intercourse, dtype: int64\n",
      "7\n"
     ]
    }
   ],
   "source": [
    "data['First sexual intercourse'] = pd.to_numeric(data['First sexual intercourse'], errors='coerce')\n",
    "print(data[\"First sexual intercourse\"].value_counts())\n",
    "print(data[\"First sexual intercourse\"].isna().sum())"
   ]
  },
  {
   "cell_type": "code",
   "execution_count": 16,
   "id": "82cedae3",
   "metadata": {},
   "outputs": [
    {
     "name": "stdout",
     "output_type": "stream",
     "text": [
      "1.0     270\n",
      "2.0     240\n",
      "3.0     139\n",
      "4.0      74\n",
      "5.0      35\n",
      "6.0      18\n",
      "0.0      16\n",
      "7.0       6\n",
      "8.0       2\n",
      "11.0      1\n",
      "10.0      1\n",
      "Name: Num of pregnancies, dtype: int64\n",
      "56\n"
     ]
    }
   ],
   "source": [
    "data['Num of pregnancies'] = pd.to_numeric(data['Num of pregnancies'], errors='coerce')\n",
    "print(data[\"Num of pregnancies\"].value_counts())\n",
    "print(data[\"Num of pregnancies\"].isna().sum())"
   ]
  },
  {
   "cell_type": "code",
   "execution_count": 17,
   "id": "222160e5",
   "metadata": {},
   "outputs": [],
   "source": [
    "data['STDs: Time since first diagnosis'] = pd.to_numeric(data['STDs: Time since first diagnosis'], errors='coerce')\n",
    "data['STDs: Time since last diagnosis'] = pd.to_numeric(data['STDs: Time since last diagnosis'], errors='coerce')"
   ]
  },
  {
   "cell_type": "markdown",
   "id": "72734e07",
   "metadata": {},
   "source": [
    "### Target encoding for some variables"
   ]
  },
  {
   "cell_type": "code",
   "execution_count": 18,
   "id": "79d58e8c",
   "metadata": {},
   "outputs": [
    {
     "data": {
      "text/plain": [
       "0.0    722\n",
       "1.0    123\n",
       "?       13\n",
       "Name: Smokes, dtype: int64"
      ]
     },
     "execution_count": 18,
     "metadata": {},
     "output_type": "execute_result"
    }
   ],
   "source": [
    "data[\"Smokes\"].value_counts()"
   ]
  },
  {
   "cell_type": "code",
   "execution_count": 19,
   "id": "0eb62802",
   "metadata": {},
   "outputs": [
    {
     "data": {
      "text/plain": [
       "0.0            722\n",
       "1.266972909     15\n",
       "?               13\n",
       "5.0              9\n",
       "9.0              9\n",
       "1.0              8\n",
       "3.0              7\n",
       "2.0              7\n",
       "16.0             6\n",
       "7.0              6\n",
       "8.0              6\n",
       "11.0             5\n",
       "10.0             5\n",
       "4.0              5\n",
       "15.0             4\n",
       "14.0             4\n",
       "6.0              4\n",
       "13.0             3\n",
       "0.5              3\n",
       "19.0             3\n",
       "12.0             3\n",
       "22.0             2\n",
       "32.0             1\n",
       "20.0             1\n",
       "28.0             1\n",
       "24.0             1\n",
       "18.0             1\n",
       "34.0             1\n",
       "37.0             1\n",
       "21.0             1\n",
       "0.16             1\n",
       "Name: Smokes (years), dtype: int64"
      ]
     },
     "execution_count": 19,
     "metadata": {},
     "output_type": "execute_result"
    }
   ],
   "source": [
    "data[\"Smokes (years)\"].value_counts()"
   ]
  },
  {
   "cell_type": "code",
   "execution_count": 20,
   "id": "20a4951b",
   "metadata": {},
   "outputs": [
    {
     "name": "stdout",
     "output_type": "stream",
     "text": [
      "1.0    481\n",
      "0.0    269\n",
      "?      108\n",
      "Name: Hormonal Contraceptives, dtype: int64\n",
      "0.0            269\n",
      "?              108\n",
      "1.0             77\n",
      "0.25            41\n",
      "2.0             40\n",
      "3.0             39\n",
      "5.0             34\n",
      "0.08            25\n",
      "0.5             25\n",
      "6.0             24\n",
      "4.0             22\n",
      "7.0             21\n",
      "8.0             18\n",
      "0.16            16\n",
      "9.0             12\n",
      "10.0            11\n",
      "0.33             9\n",
      "0.42             8\n",
      "0.75             7\n",
      "0.66             6\n",
      "0.58             6\n",
      "15.0             6\n",
      "20.0             4\n",
      "12.0             4\n",
      "1.5              3\n",
      "0.67             2\n",
      "11.0             2\n",
      "2.282200521      2\n",
      "14.0             2\n",
      "19.0             2\n",
      "13.0             2\n",
      "16.0             2\n",
      "22.0             1\n",
      "2.5              1\n",
      "4.5              1\n",
      "6.5              1\n",
      "0.17             1\n",
      "3.5              1\n",
      "0.41             1\n",
      "30.0             1\n",
      "17.0             1\n",
      "Name: Hormonal Contraceptives (years), dtype: int64\n"
     ]
    }
   ],
   "source": [
    "print(data[\"Hormonal Contraceptives\"].value_counts())\n",
    "print(data[\"Hormonal Contraceptives (years)\"].value_counts())"
   ]
  },
  {
   "cell_type": "code",
   "execution_count": 21,
   "id": "0510ba0f",
   "metadata": {},
   "outputs": [
    {
     "name": "stdout",
     "output_type": "stream",
     "text": [
      "0.0    658\n",
      "?      117\n",
      "1.0     83\n",
      "Name: IUD, dtype: int64\n",
      "0.0     658\n",
      "?       117\n",
      "3.0      11\n",
      "2.0      10\n",
      "5.0       9\n",
      "1.0       8\n",
      "8.0       7\n",
      "7.0       7\n",
      "4.0       5\n",
      "6.0       5\n",
      "11.0      3\n",
      "0.5       2\n",
      "0.08      2\n",
      "0.91      1\n",
      "0.41      1\n",
      "0.33      1\n",
      "9.0       1\n",
      "0.16      1\n",
      "1.5       1\n",
      "0.25      1\n",
      "12.0      1\n",
      "15.0      1\n",
      "10.0      1\n",
      "17.0      1\n",
      "19.0      1\n",
      "0.58      1\n",
      "0.17      1\n",
      "Name: IUD (years), dtype: int64\n"
     ]
    }
   ],
   "source": [
    "print(data[\"IUD\"].value_counts())\n",
    "print(data[\"IUD (years)\"].value_counts())"
   ]
  },
  {
   "cell_type": "code",
   "execution_count": 22,
   "id": "128e4bcc",
   "metadata": {},
   "outputs": [
    {
     "name": "stdout",
     "output_type": "stream",
     "text": [
      "0.0    674\n",
      "?      105\n",
      "1.0     79\n",
      "Name: STDs, dtype: int64\n",
      "0.0    674\n",
      "?      105\n",
      "2.0     37\n",
      "1.0     34\n",
      "3.0      7\n",
      "4.0      1\n",
      "Name: STDs (number), dtype: int64\n"
     ]
    }
   ],
   "source": [
    "print(data[\"STDs\"].value_counts())\n",
    "print(data[\"STDs (number)\"].value_counts())"
   ]
  },
  {
   "cell_type": "markdown",
   "id": "d895ac79",
   "metadata": {},
   "source": [
    "As you can see, some of the non-numerical categories can be converted to numerical ones using target encoding. For example, while the category Smokes gives us information on whether the patient smokes or not, the category Smokes (years) gives us for how many years the patient has been smoking for. Instead of having two categories for this information, we can just have 1 category named Smokes (years) and designate 0 for non-smokers. The same goes for Hormonal Contraceptives (years), IUD (years) and STDs (number)."
   ]
  },
  {
   "cell_type": "code",
   "execution_count": 23,
   "id": "52bbfea8",
   "metadata": {},
   "outputs": [],
   "source": [
    "data = data.drop(columns=['Smokes', 'Hormonal Contraceptives', 'IUD', 'STDs'])"
   ]
  },
  {
   "cell_type": "code",
   "execution_count": 24,
   "id": "f28e43f5",
   "metadata": {},
   "outputs": [],
   "source": [
    "data['Smokes (years)'] = pd.to_numeric(data['Smokes (years)'], errors='coerce')\n",
    "data['Hormonal Contraceptives (years)'] = pd.to_numeric(data['Hormonal Contraceptives (years)'], errors='coerce')\n",
    "data['IUD (years)'] = pd.to_numeric(data['IUD (years)'], errors='coerce')\n",
    "data['STDs (number)'] = pd.to_numeric(data['STDs (number)'], errors='coerce')"
   ]
  },
  {
   "cell_type": "markdown",
   "id": "87375a85",
   "metadata": {},
   "source": [
    "## Exploring Categorical Values"
   ]
  },
  {
   "cell_type": "code",
   "execution_count": 25,
   "id": "34440acd",
   "metadata": {},
   "outputs": [],
   "source": [
    "cat_cols = ['STDs:condylomatosis',\n",
    " 'STDs:cervical condylomatosis',\n",
    " 'STDs:vaginal condylomatosis',\n",
    " 'STDs:vulvo-perineal condylomatosis',\n",
    " 'STDs:syphilis',\n",
    " 'STDs:pelvic inflammatory disease',\n",
    " 'STDs:genital herpes',\n",
    " 'STDs:molluscum contagiosum',\n",
    " 'STDs:AIDS',\n",
    " 'STDs:HIV',\n",
    " 'STDs:Hepatitis B',\n",
    " 'STDs:HPV']"
   ]
  },
  {
   "cell_type": "code",
   "execution_count": 26,
   "id": "960d0b0a",
   "metadata": {},
   "outputs": [
    {
     "data": {
      "image/png": "[encoded data removed]",
      "text/plain": [
       "<Figure size 1008x432 with 3 Axes>"
      ]
     },
     "metadata": {
      "needs_background": "light"
     },
     "output_type": "display_data"
    },
    {
     "data": {
      "image/png": "[encoded data removed]",
      "text/plain": [
       "<Figure size 1008x432 with 3 Axes>"
      ]
     },
     "metadata": {
      "needs_background": "light"
     },
     "output_type": "display_data"
    },
    {
     "data": {
      "image/png": "[encoded data removed]",
      "text/plain": [
       "<Figure size 1008x432 with 3 Axes>"
      ]
     },
     "metadata": {
      "needs_background": "light"
     },
     "output_type": "display_data"
    },
    {
     "data": {
      "image/png": "[encoded data removed]",
      "text/plain": [
       "<Figure size 1008x432 with 3 Axes>"
      ]
     },
     "metadata": {
      "needs_background": "light"
     },
     "output_type": "display_data"
    }
   ],
   "source": [
    "### Your code here\n",
    "i = 0\n",
    "c_per_g = 3\n",
    "while i < len(cat_cols):\n",
    "    fig, axes = plt.subplots(ncols=c_per_g,figsize=(14,6))\n",
    "    ax1 = data.groupby(cat_cols[i]).count()[\"Dx:Cancer\"].plot(kind=\"bar\", ax=axes[0])\n",
    "    ax2 = data.groupby(cat_cols[i+1]).count()[\"Dx:Cancer\"].plot(kind=\"bar\", ax=axes[1])\n",
    "    ax3 = data.groupby(cat_cols[i+2]).count()[\"Dx:Cancer\"].plot(kind=\"bar\", ax=axes[2])\n",
    "\n",
    "    ax1.set_xlabel(cat_cols[i])\n",
    "    ax1.set_ylabel(\"Dx:Cancer\")\n",
    "    ax1.set_title(cat_cols[i] + \" vs Dx:Cancer\")\n",
    "    \n",
    "    ax2.set_xlabel(cat_cols[i+1])\n",
    "    ax2.set_ylabel(\"Dx:Cancer\")\n",
    "    ax2.set_title(cat_cols[i+1] + \" vs Dx:Cancer\")\n",
    "    \n",
    "    ax3.set_xlabel(cat_cols[i+2])\n",
    "    ax3.set_ylabel(\"Dx:Cancer\")\n",
    "    ax3.set_title(cat_cols[i+2] + \" vs Dx:Cancer\")\n",
    "    \n",
    "    i += 3"
   ]
  },
  {
   "cell_type": "markdown",
   "id": "8cad7544",
   "metadata": {},
   "source": [
    " "
   ]
  }
 ],
 "metadata": {
  "kernelspec": {
   "display_name": "Python 3 (ipykernel)",
   "language": "python",
   "name": "python3"
  },
  "language_info": {
   "codemirror_mode": {
    "name": "ipython",
    "version": 3
   },
   "file_extension": ".py",
   "mimetype": "text/x-python",
   "name": "python",
   "nbconvert_exporter": "python",
   "pygments_lexer": "ipython3",
   "version": "3.7.10"
  }
 },
 "nbformat": 4,
 "nbformat_minor": 5
}
